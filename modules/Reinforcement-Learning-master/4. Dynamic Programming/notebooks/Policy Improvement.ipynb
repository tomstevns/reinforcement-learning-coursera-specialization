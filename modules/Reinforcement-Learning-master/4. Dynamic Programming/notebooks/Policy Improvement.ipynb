{
 "cells": [
  {
   "cell_type": "code",
   "execution_count": 10,
   "metadata": {},
   "outputs": [],
   "source": [
    "import sys\n",
    "sys.path.append(\"..\") # Adds higher directory to python modules path.\n",
    "import dp\n",
    "import gym\n",
    "import gym_gridworld"
   ]
  },
  {
   "cell_type": "code",
   "execution_count": 11,
   "metadata": {},
   "outputs": [],
   "source": [
    "env = gym.make('square-gridworld-v0')"
   ]
  },
  {
   "cell_type": "code",
   "execution_count": 12,
   "metadata": {},
   "outputs": [
    {
     "name": "stdout",
     "output_type": "stream",
     "text": [
      "State:1 Action: UP\n",
      "State:2 Action: UP\n",
      "State:3 Action: UP\n",
      "State:4 Action: UP\n",
      "State:5 Action: UP\n",
      "State:6 Action: UP\n",
      "State:7 Action: UP\n",
      "State:8 Action: UP\n",
      "State:9 Action: UP\n",
      "State:10 Action: UP\n",
      "State:11 Action: UP\n",
      "State:12 Action: UP\n",
      "State:13 Action: UP\n",
      "State:14 Action: UP\n"
     ]
    }
   ],
   "source": [
    "# Generate random policy with 4x4 GridWorld\n",
    "policy = dp.generate_random_policy(env)\n",
    "dp.print_policy(policy)"
   ]
  },
  {
   "cell_type": "code",
   "execution_count": 13,
   "metadata": {},
   "outputs": [],
   "source": [
    "V = dp.policy_evaluation(policy, env, gamma = 1)"
   ]
  },
  {
   "cell_type": "code",
   "execution_count": 14,
   "metadata": {},
   "outputs": [
    {
     "name": "stdout",
     "output_type": "stream",
     "text": [
      "State:1 Action: LEFT\n",
      "State:2 Action: LEFT\n",
      "State:3 Action: LEFT\n",
      "State:4 Action: UP\n",
      "State:5 Action: UP\n",
      "State:6 Action: LEFT\n",
      "State:7 Action: DOWN\n",
      "State:8 Action: UP\n",
      "State:9 Action: UP\n",
      "State:10 Action: DOWN\n",
      "State:11 Action: DOWN\n",
      "State:12 Action: UP\n",
      "State:13 Action: RIGHT\n",
      "State:14 Action: RIGHT\n"
     ]
    }
   ],
   "source": [
    "policy = dp.policy_improvement(V, policy, env, gamma = 1)[0]\n",
    "dp.print_policy(policy)"
   ]
  }
 ],
 "metadata": {
  "kernelspec": {
   "display_name": "Python 2",
   "language": "python",
   "name": "python2"
  },
  "language_info": {
   "codemirror_mode": {
    "name": "ipython",
    "version": 2
   },
   "file_extension": ".py",
   "mimetype": "text/x-python",
   "name": "python",
   "nbconvert_exporter": "python",
   "pygments_lexer": "ipython2",
   "version": "2.7"
  }
 },
 "nbformat": 4,
 "nbformat_minor": 2
}
